{
 "cells": [
  {
   "cell_type": "code",
   "execution_count": 1,
   "id": "df7b8a60-b65f-4896-95c6-827d10ac87de",
   "metadata": {},
   "outputs": [
    {
     "data": {
      "text/plain": [
       "<Figure size 432x288 with 0 Axes>"
      ]
     },
     "execution_count": 1,
     "metadata": {},
     "output_type": "execute_result"
    },
    {
     "data": {
      "text/plain": [
       "<Figure size 432x288 with 0 Axes>"
      ]
     },
     "metadata": {},
     "output_type": "display_data"
    },
    {
     "data": {
      "text/plain": [
       "<Figure size 432x288 with 0 Axes>"
      ]
     },
     "metadata": {},
     "output_type": "display_data"
    }
   ],
   "source": [
    "import os\n",
    "os.chdir('./backend/app/') # path to your dir\n",
    "from helpers import image_utils\n",
    "import matplotlib.pyplot as plt\n",
    "plt.figure()"
   ]
  },
  {
   "cell_type": "code",
   "execution_count": 23,
   "id": "8efd0bd6-8a42-47b2-a434-5d9dfc1a1130",
   "metadata": {},
   "outputs": [],
   "source": [
    "# giay_ra_vien = image_utils.load_datasets('../../datasets/image_classify/train/giay_ra_vien/')\n",
    "# giay_phep_lai_xe = image_utils.load_datasets('../../datasets/image_classify/train/giay_phep_lai_xe/')\n",
    "can_cuoc = image_utils.load_datasets('../../datasets/image_classify/train/can_cuoc/')\n",
    "# cv = image_utils.load_datasets('../../datasets/image_classify/train/cv/')\n",
    "# cavet_xe_may = image_utils.load_datasets('../../datasets/image_classify/train/cavet_xe_may/')\n",
    "# bang_dai_hoc = image_utils.load_datasets('../../datasets/image_classify/train/bang_dai_hoc/')\n",
    "tpfico = image_utils.load_datasets('C:\\\\Users\\\\duyng\\\\OneDrive\\\\Máy tính\\\\doc classify\\\\Train\\\\TPFICO_Form')\n",
    "invoice = image_utils.load_datasets('C:\\\\Users\\\\duyng\\\\OneDrive\\\\Máy tính\\\\doc classify\\\\Train\\\\Hoa_Don')\n",
    "invoice_hand = image_utils.load_datasets('C:\\\\Users\\\\duyng\\\\OneDrive\\\\Máy tính\\\\doc classify\\\\Train\\\\Hoa_Don_Hand')\n",
    "# payment = image_utils.load_datasets('C:\\\\Users\\\\duyng\\\\OneDrive\\\\Máy tính\\\\doc classify\\\\Train\\\\Uy_Nhiem_Chi')\n",
    "\n",
    "CLASSES = {\n",
    "    1: 'Discharge Record',\n",
    "    2: 'Invoice',\n",
    "    3: 'TPFICO form',\n",
    "    4: 'Payment Order',\n",
    "    5: 'Driver Licence',\n",
    "    6: 'Vehicle Registration Certificate',\n",
    "    7: 'Invoice Handwritten',\n",
    "    8: 'Căn Cước Công Dân mặt trước'\n",
    "}\n",
    "\n",
    "def get_class_name(class_id):\n",
    "    return CLASSES[class_id]"
   ]
  },
  {
   "cell_type": "code",
   "execution_count": 18,
   "id": "b2dcb003-1284-4f2b-a39d-ccdc0f4d1f9e",
   "metadata": {},
   "outputs": [],
   "source": [
    "# from requests_toolbelt.multipart.encoder import MultipartEncoder\n",
    "# import requests\n",
    "# from tqdm.notebook import tqdm_notebook\n",
    "# for i in tqdm_notebook(range(7)):\n",
    "#     if i > 0: \n",
    "#         r = requests.delete('http://10.1.32.139:8082/api/v1/es/indices/{class_id}'.format(class_id = i))"
   ]
  },
  {
   "cell_type": "code",
   "execution_count": 24,
   "id": "277643fe-2b72-4780-bc99-aae981910008",
   "metadata": {},
   "outputs": [
    {
     "data": {
      "application/vnd.jupyter.widget-view+json": {
       "model_id": "51e4aac042114eb99b74fd934b6ac854",
       "version_major": 2,
       "version_minor": 0
      },
      "text/plain": [
       "Class: 8:   0%|          | 0/10 [00:00<?, ?it/s]"
      ]
     },
     "metadata": {},
     "output_type": "display_data"
    }
   ],
   "source": [
    "def post(data, class_id):\n",
    "    api = 'http://10.1.32.139:8082/api/v1/es/indices'    \n",
    "    for i in tqdm_notebook(range(len(data)), desc = 'Class: {}'.format(class_id)):\n",
    "        mp_encoder = MultipartEncoder(\n",
    "            fields={\n",
    "                'class_id': str(class_id),\n",
    "                'name': get_class_name(class_id),\n",
    "                'stt': str(i),\n",
    "                'url': data[i],\n",
    "                'file': (data[i].split('\\\\')[-1], open(data[i], 'rb'), 'image/png'),\n",
    "            }\n",
    "        )\n",
    "        r = requests.post(\n",
    "            api,\n",
    "            data=mp_encoder,  # The MultipartEncoder is posted as data, don't use files=...!\n",
    "            headers={'Content-Type': mp_encoder.content_type}\n",
    "        )\n",
    "# post(giay_ra_vien, 1)\n",
    "# post(tpfico, 3)\n",
    "# post(payment, 4)\n",
    "# post(invoice, 2)\n",
    "# post(invoice_hand, 7)\n",
    "# post(giay_phep_lai_xe, 5)\n",
    "# post(cavet_xe_may, 6)\n",
    "post(can_cuoc, 8)"
   ]
  },
  {
   "cell_type": "code",
   "execution_count": 22,
   "id": "56f5bde2-4a82-415b-a301-dc588bf92c8c",
   "metadata": {},
   "outputs": [],
   "source": [
    "r = requests.delete('http://10.1.32.139:8082/api/v1/es/indices/{class_id}'.format(class_id = 8))\n",
    "# r = requests.delete('http://10.1.32.139:8082/api/v1/es/indices/{class_id}'.format(class_id = 2))"
   ]
  },
  {
   "cell_type": "code",
   "execution_count": null,
   "id": "1f518ea8-abbf-4fb9-9a81-f347e9bb79c4",
   "metadata": {},
   "outputs": [],
   "source": []
  }
 ],
 "metadata": {
  "kernelspec": {
   "display_name": "Python 3 (ipykernel)",
   "language": "python",
   "name": "python3"
  },
  "language_info": {
   "codemirror_mode": {
    "name": "ipython",
    "version": 3
   },
   "file_extension": ".py",
   "mimetype": "text/x-python",
   "name": "python",
   "nbconvert_exporter": "python",
   "pygments_lexer": "ipython3",
   "version": "3.9.6"
  }
 },
 "nbformat": 4,
 "nbformat_minor": 5
}
