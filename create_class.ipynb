{
 "cells": [
  {
   "cell_type": "code",
   "execution_count": null,
   "id": "9ac2f1c4",
   "metadata": {},
   "outputs": [],
   "source": [
    "import os\r\n",
    "os.chdir('./backend/app/') # path to your dir\r\n",
    "from helpers import image_utils\r\n",
    "import matplotlib.pyplot as plt\r\n",
    "plt.figure()"
   ]
  },
  {
   "cell_type": "markdown",
   "id": "c112ae41",
   "metadata": {},
   "source": [
    "# load folder image of class"
   ]
  },
  {
   "cell_type": "code",
   "execution_count": null,
   "id": "ea1d7413",
   "metadata": {},
   "outputs": [],
   "source": [
    "giay_ra_vien = image_utils.load_datasets('../../datasets/image_classify/train/giay_ra_vien/')\r\n",
    "giay_phep_lai_xe = image_utils.load_datasets('../../datasets/image_classify/train/giay_phep_lai_xe/')\r\n",
    "can_cuoc = image_utils.load_datasets('../../datasets/image_classify/train/can_cuoc/')\r\n",
    "cv = image_utils.load_datasets('../../datasets/image_classify/train/cv/')\r\n",
    "cavet_xe_may = image_utils.load_datasets('../../datasets/image_classify/train/cavet_xe_may/')\r\n",
    "bang_dai_hoc = image_utils.load_datasets('../../datasets/image_classify/train/bang_dai_hof\\c/')\r\n",
    "\r\n",
    "\r\n",
    "CLASSES = {\r\n",
    "    1: 'discharge record',\r\n",
    "    2: 'driver licence',\r\n",
    "#     3: 'indentity card front',\r\n",
    "    4: 'resume',\r\n",
    "    5: 'vehicle certificate',\r\n",
    "    6: 'degree of bachelor',\r\n",
    "} # define your class\r\n",
    "\r\n",
    "\r\n",
    "def get_class_name(class_id):\r\n",
    "    return CLASSES[class_id]\r\n",
    "\r\n",
    "\r\n",
    "# item = giay_ra_vien[8]\r\n",
    "# image = image_utils.load(item)\r\n",
    "# plt.imshow(image)\r\n",
    "# plt.title(item.split('/')[-1])\r\n",
    "# plt.show()\r\n",
    "# image = image_utils.pre_process(image)\r\n",
    "# plt.imshow(image, cmap = 'gray')\r\n",
    "# plt.title(item.split('/')[-1])\r\n",
    "# plt.show()"
   ]
  },
  {
   "cell_type": "markdown",
   "id": "a46d0648",
   "metadata": {},
   "source": [
    "# Delete class by id"
   ]
  },
  {
   "cell_type": "code",
   "execution_count": null,
   "id": "f002257b",
   "metadata": {},
   "outputs": [],
   "source": [
    "from requests_toolbelt.multipart.encoder import MultipartEncoder\r\n",
    "import requests\r\n",
    "from tqdm.notebook import tqdm_notebook\r\n",
    "for i in tqdm_notebook(range(7)):\r\n",
    "    if i  > 0:\r\n",
    "        r = requests.delete('http://10.1.32.139:8082/api/v1/es/indices/{class_id}'.format(class_id = i))\r\n"
   ]
  },
  {
   "cell_type": "markdown",
   "id": "e47c402a",
   "metadata": {},
   "source": [
    "# Add class"
   ]
  },
  {
   "cell_type": "code",
   "execution_count": null,
   "id": "aeabf00e",
   "metadata": {},
   "outputs": [],
   "source": [
    "def post(data, class_id):\r\n",
    "    api = 'http://10.1.32.139:8082/api/v1/es/indices'    \r\n",
    "    for i in tqdm_notebook(range(len(data)), desc = 'Class: {}'.format(class_id)):\r\n",
    "        mp_encoder = MultipartEncoder(\r\n",
    "            fields={\r\n",
    "                'class_id': str(class_id),\r\n",
    "                'name': get_class_name(class_id),\r\n",
    "                'stt': str(i),\r\n",
    "                'url': data[i],\r\n",
    "                'file': (data[i].split('\\\\')[-1], open(data[i], 'rb'), 'image/png'),\r\n",
    "            }\r\n",
    "        )\r\n",
    "        r = requests.post(\r\n",
    "            api,\r\n",
    "            data=mp_encoder,  # The MultipartEncoder is posted as data, don't use files=...!\r\n",
    "            headers={'Content-Type': mp_encoder.content_type}\r\n",
    "        )\r\n",
    "post(giay_ra_vien, 1)\r\n",
    "post(giay_phep_lai_xe, 2)\r\n",
    "# post(can_cuoc, 3)\r\n",
    "post(cv, 4)\r\n",
    "post(cavet_xe_may, 5)\r\n",
    "post(bang_dai_hoc, 6)"
   ]
  },
  {
   "cell_type": "code",
   "execution_count": null,
   "id": "e40fbb5b",
   "metadata": {},
   "outputs": [],
   "source": []
  }
 ],
 "metadata": {
  "kernelspec": {
   "display_name": "Python 3 (ipykernel)",
   "language": "python",
   "name": "python3"
  },
  "language_info": {
   "codemirror_mode": {
    "name": "ipython",
    "version": 3
   },
   "file_extension": ".py",
   "mimetype": "text/x-python",
   "name": "python",
   "nbconvert_exporter": "python",
   "pygments_lexer": "ipython3",
   "version": "3.9.6"
  }
 },
 "nbformat": 4,
 "nbformat_minor": 5
}
