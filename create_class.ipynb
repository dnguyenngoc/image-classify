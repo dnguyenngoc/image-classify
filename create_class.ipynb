{
 "cells": [
  {
   "cell_type": "code",
   "execution_count": 1,
   "id": "41c63133-0fbc-49f5-bd9f-fd2fe99637e3",
   "metadata": {},
   "outputs": [
    {
     "data": {
      "text/plain": [
       "<Figure size 432x288 with 0 Axes>"
      ]
     },
     "execution_count": 1,
     "metadata": {},
     "output_type": "execute_result"
    },
    {
     "data": {
      "text/plain": [
       "<Figure size 432x288 with 0 Axes>"
      ]
     },
     "metadata": {},
     "output_type": "display_data"
    },
    {
     "data": {
      "text/plain": [
       "<Figure size 432x288 with 0 Axes>"
      ]
     },
     "metadata": {},
     "output_type": "display_data"
    }
   ],
   "source": [
    "import os\n",
    "os.chdir('./backend/app/')\n",
    "from helpers import image_utils\n",
    "import matplotlib.pyplot as plt\n",
    "plt.figure()"
   ]
  },
  {
   "cell_type": "code",
   "execution_count": 2,
   "id": "5ae983be-981f-4ab0-b4d2-4dac65c38d74",
   "metadata": {},
   "outputs": [],
   "source": [
    "giay_ra_vien = image_utils.load_datasets('../../datasets/image_classify/train/giay_ra_vien/')\n",
    "giay_phep_lai_xe = image_utils.load_datasets('../../datasets/image_classify/train/giay_phep_lai_xe/')\n",
    "can_cuoc = image_utils.load_datasets('../../datasets/image_classify/train/can_cuoc/')\n",
    "cv = image_utils.load_datasets('../../datasets/image_classify/train/cv/')\n",
    "cavet_xe_may = image_utils.load_datasets('../../datasets/image_classify/train/cavet_xe_may/')\n",
    "bang_dai_hoc = image_utils.load_datasets('../../datasets/image_classify/train/bang_dai_hoc/')\n",
    "\n",
    "\n",
    "CLASSES = {\n",
    "    1: 'discharge record',\n",
    "    2: 'driver licence',\n",
    "    3: 'indentity card front',\n",
    "    4: 'resume',\n",
    "    5: 'vehicle certificate',\n",
    "    6: 'degree of bachelor',\n",
    "}\n",
    "def get_class_name(class_id):\n",
    "    return CLASSES[class_id]\n",
    "\n",
    "\n",
    "# item = giay_ra_vien[8]\n",
    "# image = image_utils.load(item)\n",
    "# plt.imshow(image)\n",
    "# plt.title(item.split('/')[-1])\n",
    "# plt.show()\n",
    "# image = image_utils.pre_process(image)\n",
    "# plt.imshow(image, cmap = 'gray')\n",
    "# plt.title(item.split('/')[-1])\n",
    "# plt.show()"
   ]
  },
  {
   "cell_type": "code",
   "execution_count": 10,
   "id": "b6be7bf3-731f-4738-9d73-1ef26e3fdef3",
   "metadata": {},
   "outputs": [
    {
     "data": {
      "application/vnd.jupyter.widget-view+json": {
       "model_id": "c451784dda054615bab7ec4e91819791",
       "version_major": 2,
       "version_minor": 0
      },
      "text/plain": [
       "  0%|          | 0/7 [00:00<?, ?it/s]"
      ]
     },
     "metadata": {},
     "output_type": "display_data"
    }
   ],
   "source": [
    "from requests_toolbelt.multipart.encoder import MultipartEncoder\n",
    "import requests\n",
    "from tqdm.notebook import tqdm_notebook\n",
    "for i in tqdm_notebook(range(7)):\n",
    "    if i > 0:\n",
    "        r = requests.delete('http://10.1.133.3:8082/api/v1/es/indices/{class_id}'.format(class_id = i))\n"
   ]
  },
  {
   "cell_type": "code",
   "execution_count": 11,
   "id": "74665312-16ac-47b9-9b30-6146cf141537",
   "metadata": {},
   "outputs": [
    {
     "data": {
      "application/vnd.jupyter.widget-view+json": {
       "model_id": "11b46634c897409cb49db4242a2a0f84",
       "version_major": 2,
       "version_minor": 0
      },
      "text/plain": [
       "Class: 1:   0%|          | 0/10 [00:00<?, ?it/s]"
      ]
     },
     "metadata": {},
     "output_type": "display_data"
    },
    {
     "data": {
      "application/vnd.jupyter.widget-view+json": {
       "model_id": "a97eec3a3d6a423aad81a8aa92efac29",
       "version_major": 2,
       "version_minor": 0
      },
      "text/plain": [
       "Class: 2:   0%|          | 0/10 [00:00<?, ?it/s]"
      ]
     },
     "metadata": {},
     "output_type": "display_data"
    },
    {
     "data": {
      "application/vnd.jupyter.widget-view+json": {
       "model_id": "39e9fad011884d1bb9507d4e3129944d",
       "version_major": 2,
       "version_minor": 0
      },
      "text/plain": [
       "Class: 4:   0%|          | 0/10 [00:00<?, ?it/s]"
      ]
     },
     "metadata": {},
     "output_type": "display_data"
    },
    {
     "data": {
      "application/vnd.jupyter.widget-view+json": {
       "model_id": "8e2c30e17a634a409852d62a7c303711",
       "version_major": 2,
       "version_minor": 0
      },
      "text/plain": [
       "Class: 5:   0%|          | 0/10 [00:00<?, ?it/s]"
      ]
     },
     "metadata": {},
     "output_type": "display_data"
    },
    {
     "data": {
      "application/vnd.jupyter.widget-view+json": {
       "model_id": "4d0615935db34d4da47b27e3d1e4e3a2",
       "version_major": 2,
       "version_minor": 0
      },
      "text/plain": [
       "Class: 6:   0%|          | 0/10 [00:00<?, ?it/s]"
      ]
     },
     "metadata": {},
     "output_type": "display_data"
    }
   ],
   "source": [
    "\n",
    "def post(data, class_id):\n",
    "    api = 'http://10.1.133.3:8082/api/v1/es/indices'    \n",
    "    for i in tqdm_notebook(range(len(data)), desc = 'Class: {}'.format(class_id)):\n",
    "        mp_encoder = MultipartEncoder(\n",
    "            fields={\n",
    "                'class_id': str(class_id),\n",
    "                'name': get_class_name(class_id),\n",
    "                'stt': str(i),\n",
    "                'url': data[i],\n",
    "                'file': (data[i].split('\\\\')[-1], open(data[i], 'rb'), 'image/png'),\n",
    "            }\n",
    "        )\n",
    "        r = requests.post(\n",
    "            api,\n",
    "            data=mp_encoder,  # The MultipartEncoder is posted as data, don't use files=...!\n",
    "            headers={'Content-Type': mp_encoder.content_type}\n",
    "        )\n",
    "post(giay_ra_vien, 1)\n",
    "post(giay_phep_lai_xe, 2)\n",
    "# post(can_cuoc, 3)\n",
    "post(cv, 4)\n",
    "post(cavet_xe_may, 5)\n",
    "post(bang_dai_hoc, 6)"
   ]
  },
  {
   "cell_type": "code",
   "execution_count": null,
   "id": "0c72a172-1f5f-4889-86e9-2a169d84d64a",
   "metadata": {},
   "outputs": [],
   "source": []
  }
 ],
 "metadata": {
  "kernelspec": {
   "display_name": "Python 3 (ipykernel)",
   "language": "python",
   "name": "python3"
  },
  "language_info": {
   "codemirror_mode": {
    "name": "ipython",
    "version": 3
   },
   "file_extension": ".py",
   "mimetype": "text/x-python",
   "name": "python",
   "nbconvert_exporter": "python",
   "pygments_lexer": "ipython3",
   "version": "3.9.6"
  }
 },
 "nbformat": 4,
 "nbformat_minor": 5
}
