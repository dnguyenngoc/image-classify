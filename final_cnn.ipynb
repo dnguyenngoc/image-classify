{
 "cells": [
  {
   "cell_type": "code",
   "execution_count": 1,
   "id": "5b270595-8741-45a6-a636-515d34b6753c",
   "metadata": {},
   "outputs": [
    {
     "name": "stderr",
     "output_type": "stream",
     "text": [
      "2021-07-21 01:25:34.604112: W tensorflow/stream_executor/platform/default/dso_loader.cc:64] Could not load dynamic library 'libcudart.so.11.0'; dlerror: libcudart.so.11.0: cannot open shared object file: No such file or directory\n",
      "2021-07-21 01:25:34.604164: I tensorflow/stream_executor/cuda/cudart_stub.cc:29] Ignore above cudart dlerror if you do not have a GPU set up on your machine.\n"
     ]
    },
    {
     "data": {
      "text/plain": [
       "<Figure size 432x288 with 0 Axes>"
      ]
     },
     "metadata": {},
     "output_type": "display_data"
    }
   ],
   "source": [
    "import torch\n",
    "from pprint import pprint\n",
    "import pandas as pd\n",
    "import cv2\n",
    "from helpers import es_utils\n",
    "from helpers import image_utils\n",
    "from helpers import scanner\n",
    "from elasticsearch import Elasticsearch\n",
    "from sklearn.utils import shuffle\n",
    "from helpers import scanner\n",
    "from tqdm import tqdm\n",
    "import warnings\n",
    "warnings.filterwarnings('ignore')\n",
    "import matplotlib.pyplot as plt\n",
    "plt.figure()\n",
    "from tensorflow.keras.applications.vgg19 import VGG19"
   ]
  },
  {
   "cell_type": "code",
   "execution_count": 7,
   "id": "b0488020-55a9-4cd1-8103-32768dec6ca0",
   "metadata": {},
   "outputs": [],
   "source": [
    "LEN_FEATURE = 1000\n",
    "INDEX_NAME = 'image-classify-cnn'\n",
    "ES_HOST = '10.1.32.130'\n",
    "ES_PORT = '9200'\n",
    "PATH_DATASET = './datasets/image_classify/main.xlsx'\n",
    "PATH_TEST = './datasets/image_classify/test.xlsx'\n",
    "\n",
    "CLASSES = {\n",
    "    1: 'discharge record',\n",
    "    2: 'driver licence',\n",
    "    3: 'electric bill',\n",
    "    4: 'resume',\n",
    "    5: 'vehicle registration certificate',\n",
    "    6: 'result covid test',\n",
    "    7: 'thong bao tuyen sinh'\n",
    "}\n",
    "\n",
    "def get_class_name(class_id): return CLASSES[class_id]\n",
    "\n",
    "def make_data(data: list, list_data, class_id):\n",
    "    for item in list_data:\n",
    "        data.append([item, class_id])\n",
    "    return data"
   ]
  },
  {
   "cell_type": "code",
   "execution_count": 3,
   "id": "672f63c3-9af1-47d1-b4a6-fb6159c5073f",
   "metadata": {},
   "outputs": [
    {
     "name": "stderr",
     "output_type": "stream",
     "text": [
      "2021-07-21 01:25:36.083247: W tensorflow/stream_executor/platform/default/dso_loader.cc:64] Could not load dynamic library 'libcuda.so.1'; dlerror: libcuda.so.1: cannot open shared object file: No such file or directory\n",
      "2021-07-21 01:25:36.083351: W tensorflow/stream_executor/cuda/cuda_driver.cc:326] failed call to cuInit: UNKNOWN ERROR (303)\n",
      "2021-07-21 01:25:36.083379: I tensorflow/stream_executor/cuda/cuda_diagnostics.cc:156] kernel driver does not appear to be running on this host (pot-PC): /proc/driver/nvidia/version does not exist\n"
     ]
    },
    {
     "name": "stdout",
     "output_type": "stream",
     "text": [
      "Downloading data from https://storage.googleapis.com/tensorflow/keras-applications/vgg19/vgg19_weights_tf_dim_ordering_tf_kernels.h5\n",
      "574717952/574710816 [==============================] - 90s 0us/step\n"
     ]
    }
   ],
   "source": [
    "es = Elasticsearch([{'host': ES_HOST, 'port': ES_PORT}])\n",
    "scanner = scanner.ScannerFindContours()\n",
    "model = VGG19()"
   ]
  },
  {
   "cell_type": "code",
   "execution_count": 4,
   "id": "03595cd6-fbce-406d-aa0e-bf1a0954a6e5",
   "metadata": {},
   "outputs": [],
   "source": [
    "giay_ra_vien = image_utils.load_datasets('./datasets/image_classify/images/giay_ra_vien/')\n",
    "giay_phep_lai_xe = image_utils.load_datasets('./datasets/image_classify/images/giay_phep_lai_xe/')\n",
    "hoa_don_tien_dien = image_utils.load_datasets('./datasets/image_classify/images/hoa_don_tien_dien/')\n",
    "cv = image_utils.load_datasets('./datasets/image_classify/images/cv/')\n",
    "cavet_xe_may = image_utils.load_datasets('./datasets/image_classify/images/cavet_xe_may/')\n",
    "result_covid_test = image_utils.load_datasets('./datasets/image_classify/images/result_covid_test/')\n",
    "thong_bao_tuyen_sinh = image_utils.load_datasets('./datasets/image_classify/images/thong_bao_tuyen_sinh/')"
   ]
  },
  {
   "cell_type": "code",
   "execution_count": 5,
   "id": "09a43908-dc30-4d69-a19b-b5a16abcb207",
   "metadata": {},
   "outputs": [
    {
     "data": {
      "image/png": "[encoded data removed]",
      "text/plain": [
       "<Figure size 432x288 with 1 Axes>"
      ]
     },
     "metadata": {
      "needs_background": "light"
     },
     "output_type": "display_data"
    }
   ],
   "source": [
    "columns = ['image','class']\n",
    "data = []\n",
    "\n",
    "make_data(data, giay_ra_vien, 1)\n",
    "make_data(data, giay_phep_lai_xe, 2)\n",
    "make_data(data, hoa_don_tien_dien, 3)\n",
    "make_data(data, cv, 4)\n",
    "make_data(data, cavet_xe_may, 5)\n",
    "make_data(data, result_covid_test, 6)\n",
    "make_data(data, thong_bao_tuyen_sinh, 7)\n",
    "\n",
    "df_show = pd.DataFrame(data, columns=columns)\n",
    "df_show['class'] = df_show['class'].apply(get_class_name)\n",
    "df_show['class'].value_counts().plot(kind=\"bar\", title=\"Number record of class\")\n",
    "plt.show()\n",
    "\n",
    "df = pd.DataFrame(data, columns=columns)\n",
    "df = shuffle(df).reset_index(drop=True)\n",
    "chia = len(df['image'])*80//100\n",
    "df_train = df.iloc[:chia].reset_index(drop=True)\n",
    "df_test = df.iloc[chia:].reset_index(drop=True)"
   ]
  },
  {
   "cell_type": "code",
   "execution_count": null,
   "id": "2d84b424-d8a3-4a21-9569-b2a1b73bc433",
   "metadata": {},
   "outputs": [],
   "source": []
  }
 ],
 "metadata": {
  "kernelspec": {
   "display_name": "Python 3 (ipykernel)",
   "language": "python",
   "name": "python3"
  },
  "language_info": {
   "codemirror_mode": {
    "name": "ipython",
    "version": 3
   },
   "file_extension": ".py",
   "mimetype": "text/x-python",
   "name": "python",
   "nbconvert_exporter": "python",
   "pygments_lexer": "ipython3",
   "version": "3.9.5"
  }
 },
 "nbformat": 4,
 "nbformat_minor": 5
}
